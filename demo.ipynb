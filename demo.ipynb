{
 "cells": [
  {
   "cell_type": "code",
   "execution_count": 10,
   "metadata": {},
   "outputs": [],
   "source": [
    "import base64\n",
    "import numpy as np\n",
    "import re,cv2"
   ]
  },
  {
   "cell_type": "code",
   "execution_count": 6,
   "metadata": {},
   "outputs": [
    {
     "data": {
      "text/plain": [
       "'1.17.4'"
      ]
     },
     "execution_count": 6,
     "metadata": {},
     "output_type": "execute_result"
    }
   ],
   "source": [
    "np.__version__"
   ]
  },
  {
   "cell_type": "code",
   "execution_count": 9,
   "metadata": {},
   "outputs": [
    {
     "data": {
      "text/plain": [
       "'2.2.1'"
      ]
     },
     "execution_count": 9,
     "metadata": {},
     "output_type": "execute_result"
    }
   ],
   "source": [
    "re.__version__"
   ]
  },
  {
   "cell_type": "code",
   "execution_count": 11,
   "metadata": {},
   "outputs": [
    {
     "data": {
      "text/plain": [
       "'4.1.2'"
      ]
     },
     "execution_count": 11,
     "metadata": {},
     "output_type": "execute_result"
    }
   ],
   "source": [
    "cv2.__version__"
   ]
  },
  {
   "cell_type": "code",
   "execution_count": 12,
   "metadata": {},
   "outputs": [],
   "source": [
    "from flask import Flask"
   ]
  },
  {
   "cell_type": "code",
   "execution_count": null,
   "metadata": {},
   "outputs": [],
   "source": []
  },
  {
   "cell_type": "code",
   "execution_count": null,
   "metadata": {},
   "outputs": [],
   "source": []
  },
  {
   "cell_type": "code",
   "execution_count": 17,
   "metadata": {},
   "outputs": [],
   "source": [
    "import numpy as np"
   ]
  },
  {
   "cell_type": "code",
   "execution_count": 18,
   "metadata": {},
   "outputs": [],
   "source": [
    "def borders(here_img, thresh):\n",
    "    size = here_img.shape\n",
    "    check = int(115 * size[0] / 600)\n",
    "    image = here_img[:]\n",
    "    top, bottom = 0, size[0] - 1\n",
    "    #plt.imshow(image)\n",
    "    #plt.show()\n",
    "    shape = size\n",
    "\n",
    "    #find the background color for empty column\n",
    "    bg = np.repeat(thresh, shape[1])\n",
    "    count = 0\n",
    "    for row in range(1, shape[0]):\n",
    "        if  (np.equal(bg, image[row]).any()) == True:\n",
    "            #print(count)\n",
    "            count += 1\n",
    "        else:\n",
    "            count = 0\n",
    "        if count >= check:\n",
    "            top = row - check\n",
    "            break\n",
    "    \n",
    "    \n",
    "    shape = image.shape\n",
    "    bg = np.repeat(thresh, shape[1])\n",
    "    count = 0\n",
    "    rows = np.arange(1, shape[0])\n",
    "    #print(rows)\n",
    "    for row in rows[::-1]:\n",
    "        if  (np.equal(bg, image[row]).any()) == True:\n",
    "            count += 1\n",
    "        else:\n",
    "            count = 0\n",
    "        if count >= check:\n",
    "            bottom = row + count\n",
    "            break\n",
    "    #print(count)\n",
    "    \n",
    "    \n",
    "    #plt.imshow(here_img[top:bottom, :])\n",
    "    #plt.imshow(here_img[top:bottom, :])\n",
    "    #plt.show()\n",
    "    \n",
    "    d1 = (top - 2) >= 0 \n",
    "    d2 = (bottom + 2) < size[0]\n",
    "    d = d1 and d2\n",
    "    if(d):\n",
    "        b = 2\n",
    "    else:\n",
    "        b = 0\n",
    "    \n",
    "    return (top, bottom, b)\n"
   ]
  },
  {
   "cell_type": "code",
   "execution_count": 21,
   "metadata": {},
   "outputs": [],
   "source": [
    "image=cv2.imread('output.png',0)"
   ]
  },
  {
   "cell_type": "code",
   "execution_count": 31,
   "metadata": {},
   "outputs": [],
   "source": [
    "top,bottom,b=borders(image,0)"
   ]
  },
  {
   "cell_type": "code",
   "execution_count": 32,
   "metadata": {},
   "outputs": [
    {
     "data": {
      "text/plain": [
       "<matplotlib.image.AxesImage at 0x7fdcdd9d95c0>"
      ]
     },
     "execution_count": 32,
     "metadata": {},
     "output_type": "execute_result"
    },
    {
     "data": {
      "image/png": "[encoded data removed]",
      "text/plain": [
       "<Figure size 432x288 with 1 Axes>"
      ]
     },
     "metadata": {
      "needs_background": "light"
     },
     "output_type": "display_data"
    }
   ],
   "source": [
    "plt.imshow(image[top:bottom])"
   ]
  },
  {
   "cell_type": "code",
   "execution_count": null,
   "metadata": {},
   "outputs": [],
   "source": []
  }
 ],
 "metadata": {
  "kernelspec": {
   "display_name": "Python 3",
   "language": "python",
   "name": "python3"
  },
  "language_info": {
   "codemirror_mode": {
    "name": "ipython",
    "version": 3
   },
   "file_extension": ".py",
   "mimetype": "text/x-python",
   "name": "python",
   "nbconvert_exporter": "python",
   "pygments_lexer": "ipython3",
   "version": "3.6.9"
  }
 },
 "nbformat": 4,
 "nbformat_minor": 2
}
